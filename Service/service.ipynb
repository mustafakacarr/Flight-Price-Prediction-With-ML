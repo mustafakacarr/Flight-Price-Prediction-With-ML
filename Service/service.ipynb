{
 "cells": [
  {
   "cell_type": "code",
   "execution_count": 8,
   "id": "9889da44-fa38-4f0a-a476-6aa52c0246d2",
   "metadata": {
    "tags": []
   },
   "outputs": [],
   "source": [
    "\n",
    "import streamlit as st\n",
    "import pickle\n",
    "import numpy as np\n",
    "import datetime\n",
    "import json\n",
    "try:\n",
    "    with open('predictionModel.pkl', 'rb') as file:\n",
    "      model = pickle.load(file)\n",
    "except FileNotFoundError:\n",
    "    print(\"File couldn't find.\")\n",
    "except Exception as e:\n",
    "    print(f\"Error: {e}\")\n",
    "\n",
    "with open('/Users/mustafa/Desktop/Flight Price Prediction/GetAirportsFromWiki/airports.json', 'r', encoding='utf-8') as file:\n",
    "    json_data = json.load(file)\n",
    "\n",
    "# Get IATA codes\n",
    "iata_codes = [entry[\"Airport\"] + \" (\" + entry[\"IATA\"] + \")\" for entry in json_data]\n",
    "iata_dict = {entry[\"IATA\"]: entry[\"Airport\"] for entry in json_data}\n",
    "\n",
    "st.title('Flight Price Prediction Web Service')\n",
    "\n",
    "\n",
    "dateInput = st.date_input(\"Choose day\", datetime.datetime.now())\n",
    "\n",
    "airlineInput = st.selectbox(\n",
    "    'Choose a airline',\n",
    "    ('Türk Hava Yolları', 'Sunexpress', 'Anadolujet','Pegasus'))\n",
    "flightDuration = st.slider('Flight Duration (minute)', 0.0,150.00)\n",
    "fromInput = st.selectbox(\n",
    "    'Choose a departure airport',\n",
    "    iata_codes,    \n",
    "  \n",
    ")\n",
    "selected_iata_from = fromInput.split(\"(\")[-1].replace(\")\", \"\").strip()\n",
    "\n",
    "st.write('You selected IATA code:', selected_iata_from)\n",
    "toInput = st.selectbox(\n",
    "    'Choose an arrival airport',\n",
    "    iata_codes,\n",
    "\n",
    ")\n",
    "selected_iata_to = toInput.split(\"(\")[-1].replace(\")\", \"\").strip()\n",
    "st.write('You selected IATA code:', selected_iata_to)\n",
    "\n",
    "\n",
    "def fromInputToDummy():\n",
    "    pass\n",
    "def toInputToDummy():\n",
    "    pass\n",
    "def encodeDate():\n",
    "    pass\n",
    "def airlineToDummy():\n",
    "    pass\n",
    "    \n",
    "\n",
    "\n"
   ]
  },
  {
   "cell_type": "code",
   "execution_count": null,
   "id": "870a7fd4-27a4-47a8-9373-ac4bd790f675",
   "metadata": {},
   "outputs": [],
   "source": []
  }
 ],
 "metadata": {
  "kernelspec": {
   "display_name": "Python 3 (ipykernel)",
   "language": "python",
   "name": "python3"
  },
  "language_info": {
   "codemirror_mode": {
    "name": "ipython",
    "version": 3
   },
   "file_extension": ".py",
   "mimetype": "text/x-python",
   "name": "python",
   "nbconvert_exporter": "python",
   "pygments_lexer": "ipython3",
   "version": "3.11.5"
  }
 },
 "nbformat": 4,
 "nbformat_minor": 5
}
